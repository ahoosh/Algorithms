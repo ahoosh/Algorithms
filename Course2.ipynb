{
 "cells": [
  {
   "cell_type": "markdown",
   "metadata": {
    "collapsed": true
   },
   "source": [
    "# Week 1: DFS and BFS search, SCC"
   ]
  },
  {
   "cell_type": "code",
   "execution_count": 89,
   "metadata": {
    "collapsed": true
   },
   "outputs": [],
   "source": [
    "def get_data_from_text_file(path='data/graph_SCC.txt'):\n",
    "    graph = {}\n",
    "    graph_rev = {}\n",
    "    with open(path) as f:\n",
    "        for line in f:\n",
    "            data = line.split()\n",
    "            x = int(data[0])\n",
    "            y = int(data[1])\n",
    "            if x in graph:\n",
    "                graph[x].append(y)\n",
    "            else:\n",
    "                graph[x] = [y]\n",
    "            if y in graph_rev:\n",
    "                graph_rev[y].append(x)\n",
    "            else:\n",
    "                graph_rev[y] = [x]\n",
    "    return graph, graph_rev"
   ]
  },
  {
   "cell_type": "code",
   "execution_count": 90,
   "metadata": {
    "collapsed": true
   },
   "outputs": [],
   "source": [
    "def get_example_graphs_in_lecture():\n",
    "    graph_rev = {}\n",
    "    graph_rev[1] = [7]\n",
    "    graph_rev[7] = [4, 9]\n",
    "    graph_rev[4] = [1]\n",
    "    graph_rev[9] = [6]\n",
    "    graph_rev[6] = [3, 8]\n",
    "    graph_rev[3] = [9]\n",
    "    graph_rev[8] = [2]\n",
    "    graph_rev[2] = [5]\n",
    "    graph_rev[5] = [8]\n",
    "\n",
    "    graph = {}\n",
    "    graph[7] = [1]\n",
    "    graph[4] = [7]\n",
    "    graph[9] = [7, 3]\n",
    "    graph[1] = [4]\n",
    "    graph[6] = [9]\n",
    "    graph[3] = [6]\n",
    "    graph[8] = [6, 5]\n",
    "    graph[2] = [8]\n",
    "    graph[5] = [2]\n",
    "    return graph, graph_rev"
   ]
  },
  {
   "cell_type": "code",
   "execution_count": null,
   "metadata": {
    "collapsed": true
   },
   "outputs": [],
   "source": []
  },
  {
   "cell_type": "code",
   "execution_count": null,
   "metadata": {
    "collapsed": true
   },
   "outputs": [],
   "source": [
    "# Practice: develop bfs using iterative and recursion methods"
   ]
  },
  {
   "cell_type": "code",
   "execution_count": 98,
   "metadata": {
    "collapsed": true
   },
   "outputs": [],
   "source": [
    "def dfs_recursive(g, u, visited, rank):\n",
    "    # print(u)\n",
    "    visited[u] = True\n",
    "    if not u in g:\n",
    "        rank.append(u)\n",
    "        return\n",
    "    for v in g[u]:\n",
    "        if not v in visited:\n",
    "            dfs_recursive(g, v, visited, rank)\n",
    "    rank.append(u)\n",
    "    \n",
    "    \n",
    "def dfs_iterative(g, u, visited, rank):\n",
    "    stack = []\n",
    "    stack.append(u)\n",
    "    # print(u)\n",
    "    visited[u] = True\n",
    "    while len(stack) != 0:\n",
    "        if not stack[-1] in g:\n",
    "            v = stack.pop()\n",
    "            rank.append(v)\n",
    "        else:\n",
    "            temp = False\n",
    "            for w in g[stack[-1]]:\n",
    "                if not w in visited:\n",
    "                    stack.append(w)\n",
    "                    # print(w)\n",
    "                    visited[w] = True\n",
    "                    temp = True\n",
    "            if temp == False:\n",
    "                v = stack.pop()\n",
    "                rank.append(v)\n",
    "    return visited, rank\n",
    "\n",
    "\n",
    "def scc_finder(graph, graph_rev, dfs_method=\"iterative\"):\n",
    "    vortex_list = list(set(list(graph.keys()) + list(graph_rev.keys())))\n",
    "    visited = {}\n",
    "    rank_rev = []\n",
    "    for node in vortex_list:\n",
    "        if not node in visited:\n",
    "            if dfs_method == \"recursive\":\n",
    "                dfs_recursive(graph_rev, node, visited, rank_rev)\n",
    "            elif dfs_method == \"iterative\":\n",
    "                visited, rank_rev = dfs_iterative(graph_rev, node, visited, rank_rev)\n",
    "    rank_rev = rank_rev[::-1]\n",
    "    visited = {}\n",
    "    rank_dir = []\n",
    "    scc = []\n",
    "    for node in rank_rev:\n",
    "        if not node in visited:\n",
    "            visited_prev_len = len(visited)\n",
    "            if dfs_method == \"recursive\":\n",
    "                dfs_recursive(graph, node, visited, rank_dir)\n",
    "            elif dfs_method == \"iterative\":\n",
    "                visited, rank_dir = dfs_iterative(graph, node, visited, rank_dir)\n",
    "            scc.append(len(visited) - visited_prev_len)\n",
    "    return sorted(scc, reverse=True)"
   ]
  },
  {
   "cell_type": "code",
   "execution_count": null,
   "metadata": {
    "collapsed": true
   },
   "outputs": [],
   "source": []
  },
  {
   "cell_type": "code",
   "execution_count": 92,
   "metadata": {
    "collapsed": true
   },
   "outputs": [],
   "source": [
    "# Getting data\n",
    "run_mode = \"homework\"\n",
    "if run_mode == \"test\":\n",
    "    graph, graph_rev = get_example_graphs_in_lecture()\n",
    "elif run_mode == \"homework\":\n",
    "    graph, graph_rev = get_data_from_text_file()"
   ]
  },
  {
   "cell_type": "code",
   "execution_count": 99,
   "metadata": {},
   "outputs": [
    {
     "name": "stdout",
     "output_type": "stream",
     "text": [
      "[434821, 968, 459, 313, 211]\n"
     ]
    }
   ],
   "source": [
    "scc = scc_finder(graph, graph_rev)\n",
    "print(scc[:5])"
   ]
  },
  {
   "cell_type": "markdown",
   "metadata": {},
   "source": [
    "# Week 2: Shortest Path with Dijkstra"
   ]
  },
  {
   "cell_type": "code",
   "execution_count": 42,
   "metadata": {
    "collapsed": true
   },
   "outputs": [],
   "source": [
    "# This code uses the implementation of undirected graph from https://gist.github.com/econchick/4666413\n",
    "# The algorithm itself is not derived from their solution\n",
    "from collections import defaultdict\n",
    "\n",
    "class Graph:\n",
    "    def __init__(self):\n",
    "        self.nodes = set()\n",
    "        self.edges = defaultdict(list)\n",
    "        self.distances = {}\n",
    "\n",
    "    def add_node(self, value):\n",
    "        self.nodes.add(value)\n",
    "\n",
    "    def add_edge(self, from_node, to_node, distance):\n",
    "        self.edges[from_node].append(to_node)\n",
    "        # self.edges[to_node].append(from_node)\n",
    "        self.distances[(from_node, to_node)] = distance\n"
   ]
  },
  {
   "cell_type": "code",
   "execution_count": 43,
   "metadata": {},
   "outputs": [],
   "source": [
    "graph = Graph()\n",
    "with open(\"dijkstra.txt\") as f:\n",
    "    for line in f:\n",
    "        data = line.split()\n",
    "        # print(data)\n",
    "        from_node = int(data[0])\n",
    "        graph.add_node(from_node)\n",
    "        for to_node_str in data[1:]:\n",
    "            to_node_lst = to_node_str.split(\",\")\n",
    "            to_node = int(to_node_lst[0])\n",
    "            distance = int(to_node_lst[1])\n",
    "            graph.add_edge(from_node=from_node, \n",
    "                           to_node=to_node, \n",
    "                           distance=distance)            "
   ]
  },
  {
   "cell_type": "code",
   "execution_count": 44,
   "metadata": {},
   "outputs": [
    {
     "name": "stdout",
     "output_type": "stream",
     "text": [
      "2599,2610,2947,2052,2367,2399,2029,2442,2505,3068\n"
     ]
    }
   ],
   "source": [
    "# Initializing our algorithm\n",
    "initial_node = 1\n",
    "\n",
    "visited = set()\n",
    "visited.add(initial_node)\n",
    "A = {node: 1000000 for node in graph.nodes}\n",
    "A[1] = 0\n",
    "\n",
    "# \n",
    "not_finished = True\n",
    "while not_finished:\n",
    "    next_node = None\n",
    "    minimum_distance = 1000000000\n",
    "    for node_x in visited:\n",
    "        for node_v in graph.edges[node_x]:\n",
    "            if not node_v in visited:\n",
    "                minimum_distance_test = A[node_x] + graph.distances[(node_x, node_v)]\n",
    "                if minimum_distance_test < minimum_distance:\n",
    "                    next_node = node_v\n",
    "                    minimum_distance = minimum_distance_test\n",
    "    if not next_node:\n",
    "        not_finished = False\n",
    "    else:\n",
    "        A[next_node] = minimum_distance\n",
    "        visited.add(next_node)\n",
    "\n",
    "result = []\n",
    "for node in [7,37,59,82,99,115,133,165,188,197]:\n",
    "    result.append(A[node])\n",
    "print(','.join([str(node) for node in result]))"
   ]
  },
  {
   "cell_type": "code",
   "execution_count": null,
   "metadata": {},
   "outputs": [],
   "source": []
  },
  {
   "cell_type": "code",
   "execution_count": null,
   "metadata": {
    "collapsed": true
   },
   "outputs": [],
   "source": []
  },
  {
   "cell_type": "code",
   "execution_count": null,
   "metadata": {
    "collapsed": true
   },
   "outputs": [],
   "source": []
  }
 ],
 "metadata": {
  "kernelspec": {
   "display_name": "Python 3",
   "language": "python",
   "name": "python3"
  },
  "language_info": {
   "codemirror_mode": {
    "name": "ipython",
    "version": 3
   },
   "file_extension": ".py",
   "mimetype": "text/x-python",
   "name": "python",
   "nbconvert_exporter": "python",
   "pygments_lexer": "ipython3",
   "version": "3.6.3"
  }
 },
 "nbformat": 4,
 "nbformat_minor": 2
}
