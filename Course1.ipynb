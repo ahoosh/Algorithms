{
 "cells": [
  {
   "cell_type": "code",
   "execution_count": null,
   "metadata": {
    "collapsed": true
   },
   "outputs": [],
   "source": []
  },
  {
   "cell_type": "markdown",
   "metadata": {},
   "source": [
    "**Coding Question:** What's the product of the following two 64-digit numbers?\n",
    "\n",
    "3141592653589793238462643383279502884197169399375105820974944592\n",
    "\n",
    "2718281828459045235360287471352662497757247093699959574966967627"
   ]
  },
  {
   "cell_type": "code",
   "execution_count": null,
   "metadata": {
    "collapsed": true
   },
   "outputs": [],
   "source": []
  },
  {
   "cell_type": "code",
   "execution_count": 108,
   "metadata": {
    "collapsed": false
   },
   "outputs": [],
   "source": [
    "import math\n",
    "import numpy as np\n",
    "import random\n",
    "import time\n",
    "import matplotlib.pyplot as plt\n",
    "%matplotlib inline  \n",
    "\n",
    "def splits_digits(num, split_n):\n",
    "    '''This function finds high and low points for a \n",
    "    division'''\n",
    "    high, low = divmod(num, 10**split_n)\n",
    "    return high, low\n",
    "\n",
    "def get_integer_digits_fast(n):\n",
    "    # This is a fast approach to get the digits number\n",
    "    if n == 0:\n",
    "        return 1\n",
    "    else:\n",
    "        return int(math.log10(n))+1\n",
    "    \n",
    "def get_integer_digits_slow(n):\n",
    "    # Slower approach for getting integer digits nunber\n",
    "    return len(str(n))\n",
    "\n",
    "def karatsuba(num_1, num_2):\n",
    "    if (num_1 < 10) & (num_2 < 10):\n",
    "        return num_1 * num_2\n",
    "    split_n = max(get_integer_digits_fast(num_1), get_integer_digits_fast(num_2)) // 2\n",
    "    a, b = splits_digits(num_1, split_n)\n",
    "    c, d = splits_digits(num_2, split_n)\n",
    "    comp1 = karatsuba(a, c)\n",
    "    comp2 = karatsuba(b, d)\n",
    "    comp3 = karatsuba(a + b, c + d)\n",
    "    return comp1 * 10**(2 * split_n) + (comp3 - comp1 - comp2) * 10**(split_n) + comp2\n",
    "    \n",
    "num_1 = 3141592653589793238462643383279502884197169399375105820974944592\n",
    "num_2 = 2718281828459045235360287471352662497757247093699959574966967627\n",
    "print(karatsuba(num_1, num_2) == num_1 * num_2)"
   ]
  },
  {
   "cell_type": "code",
   "execution_count": null,
   "metadata": {
    "collapsed": false
   },
   "outputs": [],
   "source": []
  },
  {
   "cell_type": "code",
   "execution_count": 123,
   "metadata": {
    "collapsed": false
   },
   "outputs": [
    {
     "name": "stdout",
     "output_type": "stream",
     "text": [
      "Time taken for 1000 repetion of 00 digits: 0.00072\n",
      "Time taken for 1000 repetion of 01 digits: 0.01297\n",
      "Time taken for 1000 repetion of 02 digits: 0.03075\n",
      "Time taken for 1000 repetion of 03 digits: 0.04474\n",
      "Time taken for 1000 repetion of 04 digits: 0.06599\n",
      "Time taken for 1000 repetion of 05 digits: 0.08934\n",
      "Time taken for 1000 repetion of 06 digits: 0.12011\n",
      "Time taken for 1000 repetion of 07 digits: 0.14625\n",
      "Time taken for 1000 repetion of 08 digits: 0.19914\n",
      "Time taken for 1000 repetion of 09 digits: 0.20834\n",
      "Time taken for 1000 repetion of 10 digits: 0.29861\n",
      "Time taken for 1000 repetion of 11 digits: 0.28390\n",
      "Time taken for 1000 repetion of 12 digits: 0.29677\n",
      "Time taken for 1000 repetion of 13 digits: 0.33007\n",
      "Time taken for 1000 repetion of 14 digits: 0.37615\n"
     ]
    },
    {
     "data": {
      "image/png": "[encoded data removed]",
      "text/plain": [
       "<matplotlib.figure.Figure at 0x10dd85d30>"
      ]
     },
     "metadata": {},
     "output_type": "display_data"
    }
   ],
   "source": [
    "# Plotting O(n) vs. O(n^2) vs. O(n^1.585)\n",
    "\n",
    "result = []\n",
    "rep = 1000\n",
    "max_digit = 15\n",
    "random_nums_1 = [0] * rep\n",
    "random_nums_2 = [0] * rep\n",
    "for i in range(max_digit):\n",
    "    low_lim = 10**i\n",
    "    high_lim = 10**(i + 1) - 1\n",
    "    for j in range(rep):\n",
    "        random_nums_1[j] = random.randint(low_lim, high_lim)\n",
    "        random_nums_2[j] = random.randint(low_lim, high_lim)\n",
    "    t0 = time.time()\n",
    "    for j in range(rep):\n",
    "        karatsuba(random_nums_1[j], random_nums_2[j])\n",
    "    t1 = time.time()\n",
    "    result.append(t1 - t0)\n",
    "    print(\"Time taken for {0:s} repetion of {1:02d} digits: {2:1.5f}\".format(str(rep), i, t1 - t0))\n",
    "\n",
    "ratio_for_plot = 0.5*(result[3] / 3**1.585 + result[-1] / max_digit**1.585)\n",
    "plt.plot(np.array(result)/ratio_for_plot, \"bo-\", label=\"karatsuba\")\n",
    "plt.plot([i**1.585 for i in range(max_digit)], \"b--\", label=\"O($n^{1.585}$)\")\n",
    "plt.plot(range(max_digit), \"r\", label=\"$O(n)$\")\n",
    "plt.plot([i**2 for i in range(max_digit)], \"k\", label=\"$O(n^{2})$\")\n",
    "plt.legend()\n",
    "plt.show()"
   ]
  },
  {
   "cell_type": "code",
   "execution_count": null,
   "metadata": {
    "collapsed": false
   },
   "outputs": [],
   "source": []
  },
  {
   "cell_type": "code",
   "execution_count": null,
   "metadata": {
    "collapsed": false
   },
   "outputs": [],
   "source": []
  },
  {
   "cell_type": "code",
   "execution_count": null,
   "metadata": {
    "collapsed": true
   },
   "outputs": [],
   "source": []
  }
 ],
 "metadata": {
  "kernelspec": {
   "display_name": "Python [conda env:anaconda3]",
   "language": "python",
   "name": "conda-env-anaconda3-py"
  },
  "language_info": {
   "codemirror_mode": {
    "name": "ipython",
    "version": 3
   },
   "file_extension": ".py",
   "mimetype": "text/x-python",
   "name": "python",
   "nbconvert_exporter": "python",
   "pygments_lexer": "ipython3",
   "version": "3.5.4"
  }
 },
 "nbformat": 4,
 "nbformat_minor": 2
}
