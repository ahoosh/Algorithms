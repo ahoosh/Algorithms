{
 "cells": [
  {
   "cell_type": "code",
   "execution_count": null,
   "metadata": {
    "collapsed": true
   },
   "outputs": [],
   "source": []
  },
  {
   "cell_type": "code",
   "execution_count": 89,
   "metadata": {},
   "outputs": [],
   "source": [
    "def get_data_from_text_file(path='data/graph_SCC.txt'):\n",
    "    graph = {}\n",
    "    graph_rev = {}\n",
    "    with open(path) as f:\n",
    "        for line in f:\n",
    "            data = line.split()\n",
    "            x = int(data[0])\n",
    "            y = int(data[1])\n",
    "            if x in graph:\n",
    "                graph[x].append(y)\n",
    "            else:\n",
    "                graph[x] = [y]\n",
    "            if y in graph_rev:\n",
    "                graph_rev[y].append(x)\n",
    "            else:\n",
    "                graph_rev[y] = [x]\n",
    "    return graph, graph_rev"
   ]
  },
  {
   "cell_type": "code",
   "execution_count": 90,
   "metadata": {},
   "outputs": [],
   "source": [
    "def get_example_graphs_in_lecture():\n",
    "    graph_rev = {}\n",
    "    graph_rev[1] = [7]\n",
    "    graph_rev[7] = [4, 9]\n",
    "    graph_rev[4] = [1]\n",
    "    graph_rev[9] = [6]\n",
    "    graph_rev[6] = [3, 8]\n",
    "    graph_rev[3] = [9]\n",
    "    graph_rev[8] = [2]\n",
    "    graph_rev[2] = [5]\n",
    "    graph_rev[5] = [8]\n",
    "\n",
    "    graph = {}\n",
    "    graph[7] = [1]\n",
    "    graph[4] = [7]\n",
    "    graph[9] = [7, 3]\n",
    "    graph[1] = [4]\n",
    "    graph[6] = [9]\n",
    "    graph[3] = [6]\n",
    "    graph[8] = [6, 5]\n",
    "    graph[2] = [8]\n",
    "    graph[5] = [2]\n",
    "    return graph, graph_rev"
   ]
  },
  {
   "cell_type": "code",
   "execution_count": null,
   "metadata": {},
   "outputs": [],
   "source": []
  },
  {
   "cell_type": "code",
   "execution_count": null,
   "metadata": {},
   "outputs": [],
   "source": [
    "# Practice: develop bfs using iterative and recursion methods"
   ]
  },
  {
   "cell_type": "code",
   "execution_count": 98,
   "metadata": {
    "collapsed": true
   },
   "outputs": [],
   "source": [
    "def dfs_recursive(g, u, visited, rank):\n",
    "    # print(u)\n",
    "    visited[u] = True\n",
    "    if not u in g:\n",
    "        rank.append(u)\n",
    "        return\n",
    "    for v in g[u]:\n",
    "        if not v in visited:\n",
    "            dfs_recursive(g, v, visited, rank)\n",
    "    rank.append(u)\n",
    "    \n",
    "    \n",
    "def dfs_iterative(g, u, visited, rank):\n",
    "    stack = []\n",
    "    stack.append(u)\n",
    "    # print(u)\n",
    "    visited[u] = True\n",
    "    while len(stack) != 0:\n",
    "        if not stack[-1] in g:\n",
    "            v = stack.pop()\n",
    "            rank.append(v)\n",
    "        else:\n",
    "            temp = False\n",
    "            for w in g[stack[-1]]:\n",
    "                if not w in visited:\n",
    "                    stack.append(w)\n",
    "                    # print(w)\n",
    "                    visited[w] = True\n",
    "                    temp = True\n",
    "            if temp == False:\n",
    "                v = stack.pop()\n",
    "                rank.append(v)\n",
    "    return visited, rank\n",
    "\n",
    "\n",
    "def scc_finder(graph, graph_rev, dfs_method=\"iterative\"):\n",
    "    vortex_list = list(set(list(graph.keys()) + list(graph_rev.keys())))\n",
    "    visited = {}\n",
    "    rank_rev = []\n",
    "    for node in vortex_list:\n",
    "        if not node in visited:\n",
    "            if dfs_method == \"recursive\":\n",
    "                dfs_recursive(graph_rev, node, visited, rank_rev)\n",
    "            elif dfs_method == \"iterative\":\n",
    "                visited, rank_rev = dfs_iterative(graph_rev, node, visited, rank_rev)\n",
    "    rank_rev = rank_rev[::-1]\n",
    "    visited = {}\n",
    "    rank_dir = []\n",
    "    scc = []\n",
    "    for node in rank_rev:\n",
    "        if not node in visited:\n",
    "            visited_prev_len = len(visited)\n",
    "            if dfs_method == \"recursive\":\n",
    "                dfs_recursive(graph, node, visited, rank_dir)\n",
    "            elif dfs_method == \"iterative\":\n",
    "                visited, rank_dir = dfs_iterative(graph, node, visited, rank_dir)\n",
    "            scc.append(len(visited) - visited_prev_len)\n",
    "    return sorted(scc, reverse=True)"
   ]
  },
  {
   "cell_type": "code",
   "execution_count": null,
   "metadata": {},
   "outputs": [],
   "source": []
  },
  {
   "cell_type": "code",
   "execution_count": 92,
   "metadata": {},
   "outputs": [],
   "source": [
    "# Getting data\n",
    "run_mode = \"homework\"\n",
    "if run_mode == \"test\":\n",
    "    graph, graph_rev = get_example_graphs_in_lecture()\n",
    "elif run_mode == \"homework\":\n",
    "    graph, graph_rev = get_data_from_text_file()"
   ]
  },
  {
   "cell_type": "code",
   "execution_count": 99,
   "metadata": {},
   "outputs": [
    {
     "name": "stdout",
     "output_type": "stream",
     "text": [
      "[434821, 968, 459, 313, 211]\n"
     ]
    }
   ],
   "source": [
    "scc = scc_finder(graph, graph_rev)\n",
    "print(scc[:5])"
   ]
  },
  {
   "cell_type": "code",
   "execution_count": null,
   "metadata": {},
   "outputs": [],
   "source": []
  },
  {
   "cell_type": "code",
   "execution_count": null,
   "metadata": {},
   "outputs": [],
   "source": []
  },
  {
   "cell_type": "code",
   "execution_count": null,
   "metadata": {},
   "outputs": [],
   "source": []
  },
  {
   "cell_type": "code",
   "execution_count": null,
   "metadata": {},
   "outputs": [],
   "source": []
  },
  {
   "cell_type": "code",
   "execution_count": null,
   "metadata": {},
   "outputs": [],
   "source": []
  },
  {
   "cell_type": "code",
   "execution_count": null,
   "metadata": {},
   "outputs": [],
   "source": []
  },
  {
   "cell_type": "code",
   "execution_count": null,
   "metadata": {
    "collapsed": true
   },
   "outputs": [],
   "source": []
  }
 ],
 "metadata": {
  "kernelspec": {
   "display_name": "Python 3",
   "language": "python",
   "name": "python3"
  },
  "language_info": {
   "codemirror_mode": {
    "name": "ipython",
    "version": 3
   },
   "file_extension": ".py",
   "mimetype": "text/x-python",
   "name": "python",
   "nbconvert_exporter": "python",
   "pygments_lexer": "ipython3",
   "version": "3.6.3"
  }
 },
 "nbformat": 4,
 "nbformat_minor": 2
}
